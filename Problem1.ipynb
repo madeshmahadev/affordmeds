{
 "cells": [
  {
   "cell_type": "code",
   "execution_count": 2,
   "metadata": {},
   "outputs": [
    {
     "name": "stdout",
     "output_type": "stream",
     "text": [
      "False\n"
     ]
    }
   ],
   "source": [
    "#Problem Statement:\n",
    "#Given a 2D board and a word, find if the word exists within the grid. The word can be constructed\n",
    "#from letters of sequentially adjacent cells, where \"adjacent\" cells are those horizontally or vertically\n",
    "#neighbouring. The same letter cell may not be used more than once.\n",
    "\n",
    "class Problem1:\n",
    "    def word_search(board, word):\n",
    "        W = len(board[0]) #width of the board\n",
    "        H = len(board) #height of the board\n",
    "        P = len(word) #length of the word\n",
    "        \n",
    "        def check(i,j,pos):\n",
    "            if pos >= P:\n",
    "                return True\n",
    "            elif 0 <= i<H and 0 <=j<W and board[i][j] == word[pos]:\n",
    "                temp = board[i][j]\n",
    "                board[i][j] = None\n",
    "                #check - up, down, left, right\n",
    "                if check(i-1,j,pos+1) or check(i+1,j,pos+1) or check(i,j-1,pos+1) or check(i,j+1,pos+1):\n",
    "                    return True\n",
    "                board[i][j] = temp\n",
    "            return False\n",
    "        \n",
    "        for i in range(H):\n",
    "            for j in range(W):\n",
    "                if check(i,j,0):\n",
    "                    return True\n",
    "        return  False\n",
    "    \n",
    "if __name__==\"__main__\":\n",
    "    #Test Case 1\n",
    "    board = [['A','B','C','E'],['S','F','C','S'],['A','D','E','E']]\n",
    "    testcase = Problem1.word_search(board,'ABCB')\n",
    "    print(testcase)    "
   ]
  }
 ],
 "metadata": {
  "kernelspec": {
   "display_name": "Python 3",
   "language": "python",
   "name": "python3"
  },
  "language_info": {
   "codemirror_mode": {
    "name": "ipython",
    "version": 3
   },
   "file_extension": ".py",
   "mimetype": "text/x-python",
   "name": "python",
   "nbconvert_exporter": "python",
   "pygments_lexer": "ipython3",
   "version": "3.8.4"
  }
 },
 "nbformat": 4,
 "nbformat_minor": 4
}
