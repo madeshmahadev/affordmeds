{
 "cells": [
  {
   "cell_type": "code",
   "execution_count": 1,
   "metadata": {},
   "outputs": [
    {
     "name": "stdout",
     "output_type": "stream",
     "text": [
      "True\n",
      "True\n",
      "False\n",
      "False\n",
      "True\n"
     ]
    }
   ],
   "source": [
    "#Problem 2:\n",
    "#Given a string s containing just the characters '(', ')', '{', '}', '[' and ']', determine if the input\n",
    "#string is valid. An input string is valid if –\n",
    "#• Open brackets must be closed by the same type of brackets.\n",
    "#• Open brackets must be closed in the correct order.\n",
    "\n",
    "\n",
    "class Problem2:\n",
    "    def check_valid(string):\n",
    "        brackets = {\"(\": \")\", \"{\": \"}\", \"[\": \"]\"} #Parentheses Allowed\n",
    "        stack = list() #Initializing Stack \n",
    "        for bracket in string:\n",
    "            if bracket in brackets:\n",
    "                stack.append(bracket)\n",
    "            elif len(stack) == 0 or brackets[stack.pop()] != bracket:\n",
    "                return False\n",
    "        return len(stack)==0 #Clearing Stack\n",
    "    \n",
    "if __name__==\"__main__\":\n",
    "    #Test Case1\n",
    "    testcase1 = Problem2.check_valid('()')\n",
    "    print(testcase1) \n",
    "    #Test Case2\n",
    "    testcase2 = Problem2.check_valid('()[]{}')\n",
    "    print(testcase2) \n",
    "    #Test Case3\n",
    "    testcase3 = Problem2.check_valid('{]')\n",
    "    print(testcase3) \n",
    "    #Test Case4\n",
    "    testcase4 = Problem2.check_valid('([)]')\n",
    "    print(testcase4) \n",
    "    #Test Case5\n",
    "    testcase5 = Problem2.check_valid('{[]}')\n",
    "    print(testcase5) \n"
   ]
  }
 ],
 "metadata": {
  "kernelspec": {
   "display_name": "Python 3",
   "language": "python",
   "name": "python3"
  },
  "language_info": {
   "codemirror_mode": {
    "name": "ipython",
    "version": 3
   },
   "file_extension": ".py",
   "mimetype": "text/x-python",
   "name": "python",
   "nbconvert_exporter": "python",
   "pygments_lexer": "ipython3",
   "version": "3.8.4"
  }
 },
 "nbformat": 4,
 "nbformat_minor": 4
}
